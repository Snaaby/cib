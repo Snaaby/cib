{
 "cells": [
  {
   "cell_type": "code",
   "execution_count": null,
   "metadata": {},
   "outputs": [],
   "source": [
    "import os\n",
    "import sys\n",
    "os.environ[\"PYSPARK_SUBMIT_ARGS\"]='--conf spark.sql.catalogImplementation=in-memory pyspark-shell'\n",
    "os.environ[\"PYSPARK_PYTHON\"]='/opt/anaconda/envs/bd9/bin/python'\n",
    "os.environ[\"SPARK_HOME\"]='/usr/hdp/current/spark2-client'\n",
    "\n",
    "spark_home = os.environ.get('SPARK_HOME', None)\n",
    "if not spark_home:\n",
    "    raise ValueError('SPARK_HOME environment variable is not set')\n",
    "sys.path.insert(0, os.path.join(spark_home, 'python'))\n",
    "sys.path.insert(0, os.path.join(spark_home, 'python/lib/py4j-0.10.7-src.zip'))\n",
    "exec(open(os.path.join(spark_home, 'python/pyspark/shell.py')).read())"
   ]
  },
  {
   "cell_type": "code",
   "execution_count": null,
   "metadata": {},
   "outputs": [],
   "source": [
    "from pyspark.sql import functions as F\n",
    "from pyspark.sql.functions import col, udf, desc, lit\n",
    "from pyspark.sql.types import *\n",
    "from math import sqrt import math\n",
    "import pyarrow as pa\n",
    "import pyarrow.parquet as pq"
   ]
  },
  {
   "cell_type": "code",
   "execution_count": null,
   "metadata": {},
   "outputs": [],
   "source": [
    "import pandas as pd"
   ]
  },
  {
   "cell_type": "code",
   "execution_count": null,
   "metadata": {},
   "outputs": [],
   "source": [
    "!curl -LO http://files.grouplens.org/datasets/movielens/ml-100k.zip\n",
    "!unzip ml-100k.zip"
   ]
  },
  {
   "cell_type": "code",
   "execution_count": null,
   "metadata": {},
   "outputs": [],
   "source": [
    "u_data = u_data.selectExpr(\"_c0 as user_id\", \"_c1 as item_id\", \"_c2 as rating\",  \"_c3 as timestamp\")"
   ]
  },
  {
   "cell_type": "code",
   "execution_count": null,
   "metadata": {},
   "outputs": [],
   "source": [
    "u_item = spark.read.csv('./u.item', sep='|')"
   ]
  },
  {
   "cell_type": "code",
   "execution_count": null,
   "metadata": {},
   "outputs": [],
   "source": [
    "u_item = u_item.selectExpr(\"_c0 as movie_id\", \"_c1 as movie_title\")"
   ]
  },
  {
   "cell_type": "code",
   "execution_count": null,
   "metadata": {},
   "outputs": [],
   "source": [
    "average_rating = u_data.groupBy(u_data.user_id).agg(F.avg(u_data.rating).alias('avg_rating'))"
   ]
  },
  {
   "cell_type": "code",
   "execution_count": null,
   "metadata": {},
   "outputs": [],
   "source": [
    "average_rating_target_value = average_rating\\\n",
    "   .filter(average_rating['user_id'] == target_id)\\\n",
    "   .take(1)[0]['avg_rating']"
   ]
  },
  {
   "cell_type": "code",
   "execution_count": null,
   "metadata": {},
   "outputs": [],
   "source": [
    "target_user_ratings = u_data.filter(u_data.user_id == target_id).select(\n",
    "    u_data.item_id,\n",
    "    u_data.rating.alias('target_rating'))"
   ]
  },
  {
   "cell_type": "code",
   "execution_count": null,
   "metadata": {},
   "outputs": [],
   "source": [
    "target_items = [row.item_id for row in target_user_ratings.select(target_user_ratings.item_id).distinct().collect()]"
   ]
  },
  {
   "cell_type": "code",
   "execution_count": null,
   "metadata": {},
   "outputs": [],
   "source": [
    "u_data = u_data.select('user_id',\n",
    "                        'item_id',\n",
    "                        'rating',\n",
    "                        F.when(u_data.item_id.isin(target_items), 1).otherwise(0).alias('is_in_target'))"
   ]
  },
  {
   "cell_type": "code",
   "execution_count": null,
   "metadata": {},
   "outputs": [],
   "source": [
    "u_data_common = u_data.filter(u_data.is_in_target == 1)"
   ]
  },
  {
   "cell_type": "code",
   "execution_count": null,
   "metadata": {},
   "outputs": [],
   "source": [
    "u_data_common = u_data_common.join(target_user_ratings,\n",
    "                      on=u_data_common.item_id == target_user_ratings.item_id,\n",
    "                      how='inner').select(u_data_common.user_id,\n",
    "                                          u_data_common.item_id,\n",
    "                                          u_data_common.rating,\n",
    "                                          target_user_ratings.target_rating)"
   ]
  },
  {
   "cell_type": "code",
   "execution_count": null,
   "metadata": {},
   "outputs": [],
   "source": [
    "s = u_data_common.join(\n",
    "    average_rating, on='user_id' \n",
    ").withColumn('avg_rating_target', lit(average_rating_target_value))"
   ]
  },
  {
   "cell_type": "code",
   "execution_count": null,
   "metadata": {},
   "outputs": [],
   "source": [
    "covariance = F.sum( (s['target_rating'] - s['avg_rating_target']) * (s['rating'] - s['avg_rating']) )"
   ]
  },
  {
   "cell_type": "code",
   "execution_count": null,
   "metadata": {},
   "outputs": [],
   "source": [
    "sigma_target = F.sqrt( F.sum( (s['target_rating'] - s['avg_rating_target']) * (s['target_rating'] - s['avg_rating_target']) ) )"
   ]
  },
  {
   "cell_type": "code",
   "execution_count": null,
   "metadata": {},
   "outputs": [],
   "source": [
    "sigma_user = F.sqrt( F.sum( (s['rating'] - s['avg_rating']) * (s['rating'] - s['avg_rating']) ) )"
   ]
  },
  {
   "cell_type": "code",
   "execution_count": null,
   "metadata": {},
   "outputs": [],
   "source": [
    "pearson_df = s.groupBy('user_id').agg(\n",
    "     (covariance / sigma_target / sigma_user).alias('corr_with_target')\n",
    ")"
   ]
  },
  {
   "cell_type": "code",
   "execution_count": null,
   "metadata": {},
   "outputs": [],
   "source": [
    "intersection_power = u_data.groupby('user_id').agg(F.sum('is_in_target').alias('intersection_power'))"
   ]
  },
  {
   "cell_type": "code",
   "execution_count": null,
   "metadata": {},
   "outputs": [],
   "source": [
    "def calculate_missing_data_coeff(intersection_power):\n",
    "    result = min(intersection_power * 1.0 / 50, 1.0)\n",
    "    if math.isnan(result):\n",
    "        return 0.0\n",
    "    return result"
   ]
  },
  {
   "cell_type": "code",
   "execution_count": null,
   "metadata": {},
   "outputs": [],
   "source": [
    "calculate_missing_data_coeff_udf = udf(calculate_missing_data_coeff, returnType=DoubleType())\n"
   ]
  },
  {
   "cell_type": "code",
   "execution_count": null,
   "metadata": {},
   "outputs": [],
   "source": [
    "\n",
    "data_miss_coeffs = intersection_power.select('user_id', calculate_missing_data_coeff_udf('intersection_power').alias('coeff'))"
   ]
  },
  {
   "cell_type": "code",
   "execution_count": null,
   "metadata": {},
   "outputs": [],
   "source": [
    "\n",
    "pearson_adjusted = pearson_df.join(\n",
    "    data_miss_coeffs,\n",
    "    on='user_id').select('user_id', (data_miss_coeffs.coeff * pearson_df.corr_with_target).alias('adjusted_corr'))"
   ]
  },
  {
   "cell_type": "code",
   "execution_count": null,
   "metadata": {},
   "outputs": [],
   "source": [
    "pearson_neighbours = pearson_adjusted.sort(desc('adjusted_corr')).limit(31).filter(pearson_adjusted['user_id'] != target_id)"
   ]
  },
  {
   "cell_type": "code",
   "execution_count": null,
   "metadata": {},
   "outputs": [],
   "source": [
    "unrated_films = u_item.select(\n",
    "    'movie_id',\n",
    "    'movie_title',\n",
    "    F.when(u_item.movie_id.isin(target_items), 0).otherwise(1).alias('is_unrated')).filter('is_unrated = 1').select(\n",
    "    'movie_id',\n",
    "    'movie_title')"
   ]
  },
  {
   "cell_type": "code",
   "execution_count": null,
   "metadata": {},
   "outputs": [],
   "source": [
    "average_rating.filter(average_rating['user_id'] == target_id).take(1)[0]"
   ]
  },
  {
   "cell_type": "code",
   "execution_count": null,
   "metadata": {},
   "outputs": [],
   "source": [
    "t = unrated_films.join(\n",
    "    u_data, on=u_data['item_id'] == unrated_films['movie_id'] # get unrated u_data\n",
    ").join(\n",
    "    average_rating, on=average_rating['user_id'] == u_data['user_id'] # get average ratings for each user\n",
    ").join(\n",
    "    pearson_neighbours, on='user_id' # get only neighbours u_data\n",
    ").select('movie_id',\n",
    "         'movie_title',\n",
    "         pearson_neighbours['user_id'].alias('neighbour_id'),\n",
    "         'rating',\n",
    "         pearson_neighbours['adjusted_corr'].alias('corr'),\n",
    "         'avg_rating'\n",
    ").withColumn('avg_rating_target', lit(average_rating_target_value))"
   ]
  },
  {
   "cell_type": "code",
   "execution_count": null,
   "metadata": {},
   "outputs": [],
   "source": [
    "\n",
    "r = t.groupBy('movie_id').agg((\n",
    "    F.first(t['avg_rating_target']) + F.sum(t['corr'] * (t['rating'] - t['avg_rating'])) / F.sum(t['corr'])\n",
    ").alias('rating_prediction')\n",
    ").withColumn('movie_id', t['movie_id'].cast(IntegerType()))"
   ]
  },
  {
   "cell_type": "code",
   "execution_count": null,
   "metadata": {},
   "outputs": [],
   "source": [
    "pearson_top10 = r.sort(['rating_prediction', 'movie_id'], ascending=[0, 1]).limit(10)"
   ]
  },
  {
   "cell_type": "code",
   "execution_count": null,
   "metadata": {},
   "outputs": [],
   "source": [
    "user_user_advise = pearson_top10.toPandas()\n",
    "neighbours = [int(row.user_id) for row in pearson_neighbours.select('user_id').collect()]\n",
    "advise = [row.movie_id for row in pearson_top10.select('movie_id').collect()]\n",
    "\n",
    "d = {\n",
    "    'average_film_ratings': average_film_ratings,\n",
    "    'average_user_ratings': average_user_ratings,\n",
    "    'completeness': completeness,\n",
    "    'pearson_neighbours': neighbours,\n",
    "    'pearson_top10': advise\n",
    "}"
   ]
  },
  {
   "cell_type": "code",
   "execution_count": null,
   "metadata": {},
   "outputs": [],
   "source": [
    "data = {'pearson_neighbours': neighbours, 'pearson_top10': advise}"
   ]
  },
  {
   "cell_type": "code",
   "execution_count": null,
   "metadata": {},
   "outputs": [],
   "source": [
    "df = pd.DataFrame({'pearson_neighbours': neighbours, 'pearson_top10': advise},\n",
    "                  index=list('abc'))\n",
    "table = pa.Table.from_pandas(df)\n",
    "pq.write_table(table, 'example.parquet')"
   ]
  }
 ],
 "metadata": {
  "kernelspec": {
   "display_name": "Python 3",
   "language": "python",
   "name": "python3"
  },
  "language_info": {
   "codemirror_mode": {
    "name": "ipython",
    "version": 3
   },
   "file_extension": ".py",
   "mimetype": "text/x-python",
   "name": "python",
   "nbconvert_exporter": "python",
   "pygments_lexer": "ipython3",
   "version": "3.7.6"
  }
 },
 "nbformat": 4,
 "nbformat_minor": 4
}
